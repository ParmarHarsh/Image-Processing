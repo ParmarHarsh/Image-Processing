{
 "cells": [
  {
   "cell_type": "code",
   "execution_count": null,
   "metadata": {},
   "outputs": [],
   "source": [
    "# call another jupyter notebook to run required function\n",
    "%run 'MyCanny_script.ipynb'\n",
    "\n",
    "import kornia\n",
    "import torch\n",
    "\n",
    "def MyCannyFull(input_img:torch.Tensor, st_deviation:float, gm_threshold:float, low_gm_threshold:float, high_gm_threshold:float) -> torch.Tensor:\n",
    "    # apply Canny edge detection from MyCanny function\n",
    "    nms_img, my_canny_img = MyCanny(input_img, st_deviation, gm_threshold)\n",
    "\n",
    "    # store discovered edges\n",
    "    output_img = torch.zeros_like(nms_img)\n",
    "    \n",
    "    # queue for BFS\n",
    "    queue = []\n",
    "\n",
    "    # mark pixels above the high threshold as edges and add them to the queue\n",
    "    high_threshold_mask = nms_img > high_gm_threshold\n",
    "    output_img[high_threshold_mask] = 1\n",
    "    queue.extend(torch.nonzero(high_threshold_mask, as_tuple=False).tolist())\n",
    "\n",
    "    # perform BFS to connect edges\n",
    "    while queue:\n",
    "        select_p = queue.pop(0)\n",
    "        row, col = select_p[0], select_p[1]\n",
    "        \n",
    "        # run through neighbour pixels\n",
    "        for i in range(-1, 2):\n",
    "            for j in range(-1, 2):\n",
    "                if 0 <= row + i < nms_img.shape[0] and 0 <= col + j < nms_img.shape[1]:\n",
    "                    if (output_img[row + i, col + j] == 0 and nms_img[row + i, col + j] > low_gm_threshold):\n",
    "                        output_img[row + i, col + j] = 1\n",
    "                        queue.append((row + i, col + j))\n",
    "\n",
    "    return output_img"
   ]
  }
 ],
 "metadata": {
  "language_info": {
   "name": "python"
  }
 },
 "nbformat": 4,
 "nbformat_minor": 2
}
